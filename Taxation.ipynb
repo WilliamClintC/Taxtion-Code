{
 "cells": [
  {
   "cell_type": "code",
   "execution_count": 78,
   "metadata": {},
   "outputs": [],
   "source": [
    "def calculate_Lx(alpha, beta, gamma, tau_X, L):\n",
    "    numerator = (1 - alpha) * gamma * (1 - tau_X)\n",
    "    denominator = (1 - alpha) * gamma * (1 - tau_X) + (1 - beta) * (1 - gamma)\n",
    "    L_x = (numerator / denominator) * L\n",
    "    return L_x\n"
   ]
  },
  {
   "cell_type": "code",
   "execution_count": 79,
   "metadata": {},
   "outputs": [],
   "source": [
    "def calculate_Ly(alpha, beta, gamma, tau_X, L):\n",
    "    numerator = (1 - beta) * (1 - gamma)\n",
    "    denominator = (1 - alpha) * gamma * (1 - tau_X) + (1 - beta) * (1 - gamma)\n",
    "    L_y = (numerator / denominator) * L\n",
    "    return L_y\n"
   ]
  },
  {
   "cell_type": "code",
   "execution_count": 80,
   "metadata": {},
   "outputs": [],
   "source": [
    "def calculate_Kx(alpha, beta, gamma, tau_X, tau_K, tau_KX, K):\n",
    "    numerator = alpha * gamma * (1 - tau_X) * (1 + tau_K)\n",
    "    denominator = (alpha * gamma * (1 - tau_X) * (1 + tau_K) +\n",
    "                   beta * (1 - gamma) * (1 + tau_K + tau_KX))\n",
    "    K_x = (numerator / denominator) * K\n",
    "    return K_x\n",
    "\n",
    "def calculate_Ky(alpha, beta, gamma, tau_X, tau_K, tau_KX, K):\n",
    "    numerator = beta * (1 - gamma) * (1 + tau_K + tau_KX)\n",
    "    denominator = (alpha * gamma * (1 - tau_X) * (1 + tau_K) +\n",
    "                   beta * (1 - gamma) * (1 + tau_K + tau_KX))\n",
    "    K_y = (numerator / denominator) * K\n",
    "    return K_y\n"
   ]
  },
  {
   "cell_type": "code",
   "execution_count": 81,
   "metadata": {},
   "outputs": [],
   "source": [
    "def calculate_A(X, gamma, tau_X, tau_K, tau_KX, alpha, beta, K, L):\n",
    "    numerator_X = alpha * (1 + tau_K)\n",
    "    denominator = (alpha * gamma * (1 - tau_X) * (1 + tau_K) + beta * (1 - gamma) * (1 + tau_K + tau_KX))\n",
    "    term1_X = numerator_X / denominator * K\n",
    "    term2_X = ((1 - alpha) / ((1 - alpha) * gamma * (1 - tau_X) + (1 - beta) * (1 - gamma))) * L\n",
    "    \n",
    "    A = X / (gamma * (1 - tau_X) * (term1_X ** alpha) * (term2_X ** (1 - alpha)))\n",
    "    return A\n",
    "\n",
    "def calculate_B(Y, gamma, tau_X, tau_K, tau_KX, alpha, beta, K, L):\n",
    "    numerator_Y = beta * (1 + tau_K + tau_KX)\n",
    "    denominator = (alpha * gamma * (1 - tau_X) * (1 + tau_K) + beta * (1 - gamma) * (1 + tau_K + tau_KX))\n",
    "    term1_Y = numerator_Y / denominator * K\n",
    "    term2_Y = ((1 - beta) / ((1 - alpha) * gamma * (1 - tau_X) + (1 - beta) * (1 - gamma))) * L\n",
    "    \n",
    "    B = Y / ((1 - gamma) * (term1_Y ** beta) * (term2_Y ** (1 - beta)))\n",
    "    return B\n"
   ]
  },
  {
   "cell_type": "code",
   "execution_count": 82,
   "metadata": {},
   "outputs": [],
   "source": [
    "def x(gamma,I,p_x):\n",
    "    return (gamma*I)/p_x\n",
    "def y(gamma,I,p_y):\n",
    "    return (1-gamma)*I/p_y"
   ]
  },
  {
   "cell_type": "code",
   "execution_count": 83,
   "metadata": {},
   "outputs": [
    {
     "name": "stdout",
     "output_type": "stream",
     "text": [
      "L_x: 480.0\n",
      "L_y: 960.0\n",
      "K_x: 719.9999999999999\n",
      "K_y: 240.0\n",
      "x: 1200.0\n",
      "y: 1200.0\n",
      "A: 1.9601317042077893\n",
      "B: 1.6493848884661173\n",
      "p_x: 1\n",
      "p_y: 1\n"
     ]
    }
   ],
   "source": [
    "alpha = 0.6\n",
    "beta = 0.2\n",
    "gamma = 0.5\n",
    "tau_X = 0.0 #initial state\n",
    "tau_K = 0.0\n",
    "tau_KX = 0.0\n",
    "K = 960\n",
    "L = 1440\n",
    "A = 1\n",
    "B = 1\n",
    "I=2400\n",
    "p_x=1\n",
    "p_y=1\n",
    "\n",
    "L_x = calculate_Lx(alpha, beta, gamma, tau_X, L)\n",
    "L_y = calculate_Ly(alpha, beta, gamma, tau_X, L)\n",
    "\n",
    "print(\"L_x:\", L_x)\n",
    "print(\"L_y:\", L_y)  \n",
    "\n",
    "K_x = calculate_Kx(alpha, beta, gamma, tau_X, tau_K, tau_KX, K)\n",
    "K_y = calculate_Ky(alpha, beta, gamma, tau_X, tau_K, tau_KX, K)\n",
    "\n",
    "print(\"K_x:\", K_x)\n",
    "print(\"K_y:\", K_y)\n",
    "\n",
    "X = x(gamma, I, p_x)\n",
    "Y = y(gamma, I, p_y)\n",
    "A = calculate_A(X, gamma, tau_X, tau_K, tau_KX, alpha, beta, K, L)\n",
    "B = calculate_B(Y, gamma, tau_X, tau_K, tau_KX, alpha, beta, K, L)\n",
    "\n",
    "\n",
    "print(\"x:\", X)\n",
    "print(\"y:\", Y)\n",
    "\n",
    "print(\"A:\", A)\n",
    "print(\"B:\", B)\n",
    "\n",
    "print(\"p_x:\", p_x)\n",
    "print(\"p_y:\", p_y)"
   ]
  },
  {
   "cell_type": "code",
   "execution_count": null,
   "metadata": {},
   "outputs": [],
   "source": [
    "alpha = 0.6\n",
    "beta = 0.2\n",
    "gamma = 0.5\n",
    "tau_X = 0.0 #initial state\n",
    "tau_K = 0.0\n",
    "tau_KX = 0.0\n",
    "K = 960\n",
    "L = 1440\n",
    "A = 1\n",
    "B = 1\n",
    "I=2400\n",
    "p_x=1\n",
    "p_y=1\n",
    "\n",
    "L_x = calculate_Lx(alpha, beta, gamma, tau_X, L)\n",
    "L_y = calculate_Ly(alpha, beta, gamma, tau_X, L)\n",
    "\n",
    "print(\"L_x:\", L_x)\n",
    "print(\"L_y:\", L_y)  \n",
    "\n",
    "K_x = calculate_Kx(alpha, beta, gamma, tau_X, tau_K, tau_KX, K)\n",
    "K_y = calculate_Ky(alpha, beta, gamma, tau_X, tau_K, tau_KX, K)\n",
    "\n",
    "print(\"K_x:\", K_x)\n",
    "print(\"K_y:\", K_y)\n",
    "\n",
    "X = x(gamma, I, p_x)\n",
    "Y = y(gamma, I, p_y)\n",
    "A = calculate_A(X, gamma, tau_X, tau_K, tau_KX, alpha, beta, K, L)\n",
    "B = calculate_B(Y, gamma, tau_X, tau_K, tau_KX, alpha, beta, K, L)\n",
    "\n",
    "\n",
    "print(\"x:\", X)\n",
    "print(\"y:\", Y)\n",
    "\n",
    "print(\"A:\", A)\n",
    "print(\"B:\", B)\n",
    "\n",
    "print(\"p_x:\", p_x)\n",
    "print(\"p_y:\", p_y)"
   ]
  }
 ],
 "metadata": {
  "kernelspec": {
   "display_name": "Python 3",
   "language": "python",
   "name": "python3"
  },
  "language_info": {
   "codemirror_mode": {
    "name": "ipython",
    "version": 3
   },
   "file_extension": ".py",
   "mimetype": "text/x-python",
   "name": "python",
   "nbconvert_exporter": "python",
   "pygments_lexer": "ipython3",
   "version": "3.11.9"
  }
 },
 "nbformat": 4,
 "nbformat_minor": 2
}
